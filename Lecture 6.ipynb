{
 "cells": [
  {
   "cell_type": "markdown",
   "metadata": {},
   "source": [
    "Q & A\n",
    "\n",
    "inner join exercise\n",
    "\n",
    "More about classes: inheritance and operator overloading(dunder methods)\n",
    "exercises:\n",
    "\n",
    "1. Change Student class to use Person as it's parent class\n",
    "2. Extend the Person class to Employee with company name, year started, salary and social security number\n",
    "\n",
    "hasattr, setattr, getattr\n",
    "\n",
    "Simple web server with flask\n",
    "\n",
    "https://github.com/isaevpd/hangman\n",
    "Models, Views, Templates Mongoengine ODM/ORM\n",
    "\n",
    "TODO: implement a validation for english words\n",
    "\n",
    "pandas: https://pandas.pydata.org/pandas-docs/stable/user_guide/io.html"
   ]
  },
  {
   "cell_type": "code",
   "execution_count": 1,
   "metadata": {},
   "outputs": [],
   "source": [
    "\n",
    "def merge_two_files(first_file, second_file):\n",
    "    first = []\n",
    "    second = []\n",
    "    with open(first_file) as f:\n",
    "        for line in f:\n",
    "            first.append(\n",
    "                tuple(line.rstrip().split(';'))\n",
    "            )\n",
    "\n",
    "    with open(second_file) as f:\n",
    "        for line in f:\n",
    "            second.append(\n",
    "                tuple(line.rstrip().split(';'))\n",
    "            )\n",
    "\n",
    "    first.sort(key=lambda row: int(row[0]))\n",
    "    second.sort(key=lambda row: int(row[0]))\n",
    "\n",
    "\n",
    "    with open('merged.csv', 'w') as merged_file:\n",
    "        # replace by min(len(first), len(second)) if files are different length\n",
    "        for index in range(len(first)):\n",
    "            row = first[index] + second[index][1:]\n",
    "            merged_file.write('; '.join(row) + '\\n')\n",
    "\n",
    "# merge_two_files('first.csv', 'second.csv')"
   ]
  },
  {
   "cell_type": "markdown",
   "metadata": {},
   "source": [
    "## Inheritance and operator overloading"
   ]
  },
  {
   "cell_type": "code",
   "execution_count": 2,
   "metadata": {},
   "outputs": [],
   "source": [
    "from datetime import datetime\n",
    "\n",
    "class Person:\n",
    "    def __init__(self, first_name, last_name, year):\n",
    "        self.first_name = first_name\n",
    "        self.last_name = last_name\n",
    "        self.year = year\n",
    "        self.calculate_age()\n",
    "\n",
    "    @property\n",
    "    def full_name(self):\n",
    "        return f'{self.first_name} {self.last_name}'\n",
    "    \n",
    "    def calculate_age(self):\n",
    "        difference = datetime.now() - datetime(year=self.year, month=1, day=1)\n",
    "        self.age = difference.days // 365\n",
    "        return self.age\n",
    "    \n",
    "    def __str__(self):\n",
    "        return f'{self.first_name} {self.last_name} is {self.age} years old'\n",
    "    \n",
    "    def __repr__(self):\n",
    "        return str(self)"
   ]
  },
  {
   "cell_type": "code",
   "execution_count": 33,
   "metadata": {},
   "outputs": [],
   "source": [
    "class Employee(Person):\n",
    "    \"\"\"\n",
    "    Extension of the Person class with company name,\n",
    "    year started, salary and social security number\n",
    "    \"\"\"\n",
    "    def __init__(self, first_name, last_name, year, company_name, year_started, salary, ssn):\n",
    "        super().__init__(first_name, last_name, year)\n",
    "        self.year_started = year_started\n",
    "        self.company_name = company_name\n",
    "        self.salary = salary\n",
    "        self.ssn = ssn\n",
    "    \n",
    "    def __str__(self):\n",
    "        pass\n",
    "    "
   ]
  },
  {
   "cell_type": "code",
   "execution_count": 3,
   "metadata": {},
   "outputs": [],
   "source": [
    "class Student(Person):\n",
    "    def __init__(self, first_name, last_name, year, password):\n",
    "        # this is done for every Person instance\n",
    "        super().__init__(first_name, last_name, year)\n",
    "        # this is unique to Student\n",
    "        self.password = password\n",
    "        self.projects = []\n",
    "    \n",
    "#     @property\n",
    "#     def name(self):\n",
    "#         return self.person.full_name\n",
    "    \n",
    "    def check_password(self, password):\n",
    "        return password == self.password\n",
    "    \n",
    "    def get_projects(self):\n",
    "        return self.projects\n",
    "    \n",
    "    def add_project(self, project):\n",
    "        self.projects.append(project)\n",
    "    \n",
    "    def __str__(self):\n",
    "        person_str = super().__str__()\n",
    "        return f'{person_str} is working on {\",\".join(self.get_projects())}'"
   ]
  },
  {
   "cell_type": "code",
   "execution_count": 4,
   "metadata": {},
   "outputs": [],
   "source": [
    "student = Student('Rodney', 'Hill', 1980, 'impassword')"
   ]
  },
  {
   "cell_type": "code",
   "execution_count": 5,
   "metadata": {},
   "outputs": [],
   "source": [
    "student.add_project('homework')"
   ]
  },
  {
   "cell_type": "code",
   "execution_count": 6,
   "metadata": {},
   "outputs": [
    {
     "name": "stdout",
     "output_type": "stream",
     "text": [
      "['homework']\n"
     ]
    }
   ],
   "source": [
    "print(student.get_projects())"
   ]
  },
  {
   "cell_type": "code",
   "execution_count": 7,
   "metadata": {},
   "outputs": [
    {
     "name": "stdout",
     "output_type": "stream",
     "text": [
      "1980\n"
     ]
    }
   ],
   "source": [
    "print(student.year)"
   ]
  },
  {
   "cell_type": "code",
   "execution_count": 8,
   "metadata": {},
   "outputs": [
    {
     "name": "stdout",
     "output_type": "stream",
     "text": [
      "Rodney Hill is 39 years old is working on homework\n"
     ]
    }
   ],
   "source": [
    "print(student)"
   ]
  },
  {
   "cell_type": "code",
   "execution_count": 27,
   "metadata": {},
   "outputs": [],
   "source": [
    "def gcd(n, d):\n",
    "    while n != d:\n",
    "        if n > d:\n",
    "            n = n - d\n",
    "        else:\n",
    "            d = d - n\n",
    "    return n\n",
    "\n",
    "\n",
    "class Fraction:\n",
    "    def __init__(self, n, d):\n",
    "        assert d != 0, 'Denominator can\\'t be zero!'\n",
    "        common_denominator = gcd(abs(n), abs(d))\n",
    "        self.num = int(n / common_denominator)\n",
    "        self.denom = int(d / common_denominator)\n",
    "   \n",
    "        if self.denom < 0:\n",
    "            self.denom = abs(self.denom)\n",
    "            self.num = -1 * self.num\n",
    "\n",
    "    def __add__(self, other):\n",
    "        return Fraction(\n",
    "            self.num * other.denom + self.denom * other.num,\n",
    "            self.denom * other.denom\n",
    "        )\n",
    "\n",
    "    def __sub__(self, other):\n",
    "        return Fraction(\n",
    "            self.num * other.denom - self.denom * other.num,\n",
    "            self.denom * other.denom\n",
    "        )\n",
    "\n",
    "    def __mul__(self, other):\n",
    "        return Fraction(\n",
    "            self.num * other.num,\n",
    "            self.denom * other.denom\n",
    "        )\n",
    "\n",
    "    def __truediv__(self, other):\n",
    "        return Fraction(\n",
    "            self.num * other.denom,\n",
    "            self.denom * other.num\n",
    "        )\n",
    "\n",
    "    def __str__(self):\n",
    "        if self.denom == 1:\n",
    "            return str(self.num)\n",
    "        else:\n",
    "            return f'{self.num}/{self.denom}'"
   ]
  },
  {
   "cell_type": "code",
   "execution_count": 28,
   "metadata": {},
   "outputs": [
    {
     "name": "stdout",
     "output_type": "stream",
     "text": [
      "F3 is a  <class '__main__.Fraction'>\n",
      "-7/4\n"
     ]
    }
   ],
   "source": [
    "def test():\n",
    "    f1 = Fraction(2,-2)\n",
    "    f2 = Fraction(3,-4)\n",
    "    f3 = f1 + f2\n",
    "    print('F3 is a ', type(f3))\n",
    "    print(f3)\n",
    "    f4 = f1 - f2\n",
    "    f5 = f1 * f2\n",
    "    f6 = f1 / f2\n",
    "test()"
   ]
  },
  {
   "cell_type": "code",
   "execution_count": 13,
   "metadata": {},
   "outputs": [],
   "source": [
    "my_fraction = Fraction(5, 15)"
   ]
  },
  {
   "cell_type": "code",
   "execution_count": 29,
   "metadata": {},
   "outputs": [
    {
     "name": "stdout",
     "output_type": "stream",
     "text": [
      "1/3\n"
     ]
    }
   ],
   "source": [
    "print(my_fraction)"
   ]
  },
  {
   "cell_type": "code",
   "execution_count": 30,
   "metadata": {},
   "outputs": [],
   "source": [
    "my_other_fraction = Fraction(15, 15)"
   ]
  },
  {
   "cell_type": "code",
   "execution_count": 31,
   "metadata": {},
   "outputs": [
    {
     "name": "stdout",
     "output_type": "stream",
     "text": [
      "1\n"
     ]
    }
   ],
   "source": [
    "print(my_other_fraction)"
   ]
  },
  {
   "cell_type": "code",
   "execution_count": 34,
   "metadata": {},
   "outputs": [],
   "source": [
    "person = Person('Joe', 'Hill', 1995)"
   ]
  },
  {
   "cell_type": "code",
   "execution_count": 45,
   "metadata": {},
   "outputs": [
    {
     "name": "stdout",
     "output_type": "stream",
     "text": [
      "Not supported\n"
     ]
    }
   ],
   "source": [
    "print(getattr(person, 'name', 'Not supported'))"
   ]
  },
  {
   "cell_type": "code",
   "execution_count": 46,
   "metadata": {},
   "outputs": [],
   "source": [
    "person.name = 'Heres a name'"
   ]
  },
  {
   "cell_type": "code",
   "execution_count": 51,
   "metadata": {},
   "outputs": [],
   "source": [
    "setattr(person, 'name', 'Heres another name')"
   ]
  },
  {
   "cell_type": "code",
   "execution_count": 52,
   "metadata": {},
   "outputs": [
    {
     "data": {
      "text/plain": [
       "'Heres another name'"
      ]
     },
     "execution_count": 52,
     "metadata": {},
     "output_type": "execute_result"
    }
   ],
   "source": [
    "person.name"
   ]
  },
  {
   "cell_type": "code",
   "execution_count": 57,
   "metadata": {},
   "outputs": [
    {
     "ename": "AttributeError",
     "evalue": "'str' object attribute 'upper' is read-only",
     "output_type": "error",
     "traceback": [
      "\u001b[0;31m---------------------------------------------------------------------------\u001b[0m",
      "\u001b[0;31mAttributeError\u001b[0m                            Traceback (most recent call last)",
      "\u001b[0;32m<ipython-input-57-35f974655a57>\u001b[0m in \u001b[0;36m<module>\u001b[0;34m\u001b[0m\n\u001b[0;32m----> 1\u001b[0;31m \u001b[0msetattr\u001b[0m\u001b[0;34m(\u001b[0m\u001b[0;34m'my_string'\u001b[0m\u001b[0;34m,\u001b[0m \u001b[0;34m'upper'\u001b[0m\u001b[0;34m,\u001b[0m \u001b[0;36m5\u001b[0m\u001b[0;34m)\u001b[0m\u001b[0;34m\u001b[0m\u001b[0;34m\u001b[0m\u001b[0m\n\u001b[0m",
      "\u001b[0;31mAttributeError\u001b[0m: 'str' object attribute 'upper' is read-only"
     ]
    }
   ],
   "source": [
    "setattr('my_string', 'upper', 5)"
   ]
  },
  {
   "cell_type": "code",
   "execution_count": null,
   "metadata": {},
   "outputs": [],
   "source": []
  }
 ],
 "metadata": {
  "kernelspec": {
   "display_name": "Python 3",
   "language": "python",
   "name": "python3"
  },
  "language_info": {
   "codemirror_mode": {
    "name": "ipython",
    "version": 3
   },
   "file_extension": ".py",
   "mimetype": "text/x-python",
   "name": "python",
   "nbconvert_exporter": "python",
   "pygments_lexer": "ipython3",
   "version": "3.7.2"
  }
 },
 "nbformat": 4,
 "nbformat_minor": 2
}
